{
 "cells": [
  {
   "cell_type": "code",
   "execution_count": 26,
   "metadata": {},
   "outputs": [],
   "source": [
    "from torch import cuda, bfloat16\n",
    "import torch\n",
    "import transformers\n",
    "from transformers import AutoTokenizer\n",
    "from time import time\n",
    "import chromadb\n",
    "from chromadb.config import Settings\n",
    "from langchain.llms import HuggingFacePipeline\n",
    "from langchain.document_loaders import TextLoader\n",
    "from langchain.text_splitter import RecursiveCharacterTextSplitter\n",
    "from langchain.embeddings import HuggingFaceEmbeddings\n",
    "from langchain.chains import RetrievalQA\n",
    "from langchain.vectorstores import Chroma"
   ]
  },
  {
   "cell_type": "markdown",
   "metadata": {},
   "source": [
    "## Initialize model, tokenizer, query pipeline\n",
    "\n",
    "Define the model, the device, and the bitsandbytes configuration."
   ]
  },
  {
   "cell_type": "code",
   "execution_count": 2,
   "metadata": {},
   "outputs": [
    {
     "name": "stdout",
     "output_type": "stream",
     "text": [
      "cuda:0\n"
     ]
    }
   ],
   "source": [
    "model_id = 'meta-llama/Llama-2-7b-chat-hf'\n",
    "\n",
    "device = f'cuda:{torch.cuda.current_device()}' if torch.cuda.is_available() else 'cpu'\n",
    "\n",
    "print(device)\n",
    "\n",
    "# set quantization configuration to load large model with less GPU memory\n",
    "# this requires the `bitsandbytes` library\n",
    "bnb_config = transformers.BitsAndBytesConfig(\n",
    "    load_in_4bit=True,\n",
    "    bnb_4bit_quant_type='nf4',\n",
    "    bnb_4bit_use_double_quant=True,\n",
    "    bnb_4bit_compute_dtype=bfloat16\n",
    ")"
   ]
  },
  {
   "cell_type": "markdown",
   "metadata": {},
   "source": [
    "Prepare the model and the tokenizer."
   ]
  },
  {
   "cell_type": "code",
   "execution_count": 3,
   "metadata": {},
   "outputs": [
    {
     "name": "stdout",
     "output_type": "stream",
     "text": [
      "bin c:\\Users\\User\\miniconda3\\envs\\llama_chroma\\lib\\site-packages\\bitsandbytes\\libbitsandbytes_cuda121.dll\n"
     ]
    },
    {
     "name": "stderr",
     "output_type": "stream",
     "text": [
      "Loading checkpoint shards: 100%|██████████| 2/2 [01:07<00:00, 33.53s/it]\n"
     ]
    },
    {
     "name": "stdout",
     "output_type": "stream",
     "text": [
      "Prepare model, tokenizer: 81.787 sec.\n"
     ]
    }
   ],
   "source": [
    "\n",
    "\n",
    "time_1 = time()\n",
    "model_config = transformers.AutoConfig.from_pretrained(\n",
    "    model_id,\n",
    ")\n",
    "\n",
    "tokenizer = AutoTokenizer.from_pretrained(model_id)\n",
    "\n",
    "model = transformers.AutoModelForCausalLM.from_pretrained(\n",
    "    model_id,\n",
    "    trust_remote_code=True,\n",
    "    config=model_config,\n",
    "    quantization_config=bnb_config,\n",
    "    device_map='cuda:0',\n",
    ")\n",
    "\n",
    "time_2 = time()\n",
    "print(f\"Prepare model, tokenizer: {round(time_2-time_1, 3)} sec.\")"
   ]
  },
  {
   "cell_type": "code",
   "execution_count": 4,
   "metadata": {},
   "outputs": [
    {
     "name": "stdout",
     "output_type": "stream",
     "text": [
      "Prepare pipeline: 1.187 sec.\n"
     ]
    }
   ],
   "source": [
    "time_1 = time()\n",
    "query_pipeline = transformers.pipeline(\n",
    "        \"text-generation\",\n",
    "        model=model,\n",
    "        tokenizer=tokenizer,\n",
    "        torch_dtype=torch.float16,\n",
    "        device_map=\"cuda:0\",)\n",
    "time_2 = time()\n",
    "print(f\"Prepare pipeline: {round(time_2-time_1, 3)} sec.\")"
   ]
  },
  {
   "cell_type": "code",
   "execution_count": 5,
   "metadata": {},
   "outputs": [],
   "source": [
    "def test_model(tokenizer, pipeline, prompt_to_test):\n",
    "    \"\"\"\n",
    "    Perform a query\n",
    "    print the result\n",
    "    Args:\n",
    "        tokenizer: the tokenizer\n",
    "        pipeline: the pipeline\n",
    "        prompt_to_test: the prompt\n",
    "    Returns\n",
    "        None\n",
    "    \"\"\"\n",
    "    # adapted from https://huggingface.co/blog/llama2#using-transformers\n",
    "    time_1 = time()\n",
    "    sequences = pipeline(\n",
    "        prompt_to_test,\n",
    "        do_sample=True,\n",
    "        top_k=10,\n",
    "        num_return_sequences=1,\n",
    "        eos_token_id=tokenizer.eos_token_id,\n",
    "        max_length=200,)\n",
    "    time_2 = time()\n",
    "    print(f\"Test inference: {round(time_2-time_1, 3)} sec.\")\n",
    "    for seq in sequences:\n",
    "        print(f\"Result: {seq['generated_text']}\")"
   ]
  },
  {
   "cell_type": "markdown",
   "metadata": {},
   "source": [
    "## Test the query pipeline\n",
    "\n",
    "We test the pipeline with a query about the meaning of State of the Union (SOTU)."
   ]
  },
  {
   "cell_type": "code",
   "execution_count": 6,
   "metadata": {},
   "outputs": [
    {
     "name": "stderr",
     "output_type": "stream",
     "text": [
      "Truncation was not explicitly activated but `max_length` is provided a specific value, please use `truncation=True` to explicitly truncate examples to max length. Defaulting to 'longest_first' truncation strategy. If you encode pairs of sequences (GLUE-style) with the tokenizer you can select this strategy more precisely by providing a specific strategy to `truncation`.\n",
      "c:\\Users\\User\\miniconda3\\envs\\llama_chroma\\lib\\site-packages\\transformers\\models\\llama\\modeling_llama.py:728: UserWarning: 1Torch was not compiled with flash attention. (Triggered internally at ..\\aten\\src\\ATen\\native\\transformers\\cuda\\sdp_utils.cpp:263.)\n",
      "  attn_output = torch.nn.functional.scaled_dot_product_attention(\n"
     ]
    },
    {
     "name": "stdout",
     "output_type": "stream",
     "text": [
      "Test inference: 48.851 sec.\n",
      "Result: Please explain what is the State of the Union address. Give just a definition. Keep it in 100 words.\n",
      "The State of the Union address is an annual speech delivered by the President of the United States to Congress, in which they report on the current state of the union and outline their legislative agenda for the upcoming year. The speech is typically held in the House Chamber of the United States Capitol and is broadcast live on television.\n"
     ]
    }
   ],
   "source": [
    "test_model(tokenizer,\n",
    "           query_pipeline,\n",
    "           \"Please explain what is the State of the Union address. Give just a definition. Keep it in 100 words.\")"
   ]
  },
  {
   "cell_type": "markdown",
   "metadata": {},
   "source": [
    "# Retrieval Augmented Generation"
   ]
  },
  {
   "cell_type": "markdown",
   "metadata": {},
   "source": [
    "### Check the model with a HuggingFace pipeline\n",
    "We check the model with a HF pipeline, using a query about the meaning of State of the Union (SOTU)."
   ]
  },
  {
   "cell_type": "code",
   "execution_count": 7,
   "metadata": {},
   "outputs": [
    {
     "data": {
      "text/plain": [
       "'\\nThe State of the Union address is an annual speech given by the President of the United States to a joint session of Congress, typically in January, in which the President reports on the state of the union and outlines legislative priorities for the upcoming year.'"
      ]
     },
     "execution_count": 7,
     "metadata": {},
     "output_type": "execute_result"
    }
   ],
   "source": [
    "llm = HuggingFacePipeline(pipeline=query_pipeline)\n",
    "# checking again that everything is working fine\n",
    "llm(prompt=\"Please explain what is the State of the Union address. Give just a definition. Keep it in 100 words.\")"
   ]
  },
  {
   "cell_type": "markdown",
   "metadata": {},
   "source": [
    "### Ingestion of data using Text loder\n",
    "We will ingest the newest report\n"
   ]
  },
  {
   "cell_type": "code",
   "execution_count": 8,
   "metadata": {},
   "outputs": [],
   "source": [
    "from langchain.document_loaders import PyPDFDirectoryLoader\n",
    "\n",
    "loader = PyPDFDirectoryLoader(\"C:/Users/User/OneDrive/Desktop/LLAMA-Chroma/data/\")\n",
    "\n",
    "docs = loader.load()"
   ]
  },
  {
   "cell_type": "markdown",
   "metadata": {},
   "source": [
    "### Split data in chunks\n",
    "We split data in chunks using a recursive character text splitter."
   ]
  },
  {
   "cell_type": "code",
   "execution_count": 9,
   "metadata": {},
   "outputs": [],
   "source": [
    "text_splitter = RecursiveCharacterTextSplitter(chunk_size=1000, chunk_overlap=20)\n",
    "all_splits = text_splitter.split_documents(docs)"
   ]
  },
  {
   "cell_type": "markdown",
   "metadata": {},
   "source": [
    "### Creating Embeddings and Storing in Vector Store\n",
    "Create the embeddings using Sentence Transformer and HuggingFace embeddings."
   ]
  },
  {
   "cell_type": "code",
   "execution_count": 10,
   "metadata": {},
   "outputs": [],
   "source": [
    "model_name = \"sentence-transformers/all-mpnet-base-v2\"\n",
    "model_kwargs = {\"device\": \"cuda:0\"}\n",
    "\n",
    "embeddings = HuggingFaceEmbeddings(model_name=model_name, model_kwargs=model_kwargs)"
   ]
  },
  {
   "cell_type": "code",
   "execution_count": 11,
   "metadata": {},
   "outputs": [],
   "source": [
    "vectordb = Chroma.from_documents(documents=all_splits, embedding=embeddings, persist_directory=\"chroma_db\")"
   ]
  },
  {
   "cell_type": "markdown",
   "metadata": {},
   "source": [
    "## Initialize chain"
   ]
  },
  {
   "cell_type": "code",
   "execution_count": 12,
   "metadata": {},
   "outputs": [],
   "source": [
    "retriever = vectordb.as_retriever()\n",
    "\n",
    "qa = RetrievalQA.from_chain_type(\n",
    "    llm=llm, \n",
    "    chain_type=\"stuff\", \n",
    "    retriever=retriever, \n",
    "    verbose=True\n",
    ")"
   ]
  },
  {
   "cell_type": "markdown",
   "metadata": {},
   "source": [
    "### Test the Retrieval-Augmented Generation\n",
    "We define a test function, that will run the query and time it."
   ]
  },
  {
   "cell_type": "code",
   "execution_count": 14,
   "metadata": {},
   "outputs": [],
   "source": [
    "def test_rag(qa, query):\n",
    "    print(f\"Query: {query}\\n\")\n",
    "    time_1 = time()\n",
    "    result = qa.run(query)\n",
    "    time_2 = time()\n",
    "    print(f\"Inference time: {round(time_2-time_1, 3)} sec.\")\n",
    "    print(\"\\nResult: \", result)"
   ]
  },
  {
   "cell_type": "markdown",
   "metadata": {},
   "source": [
    "Let's check few queries."
   ]
  },
  {
   "cell_type": "code",
   "execution_count": 15,
   "metadata": {},
   "outputs": [
    {
     "name": "stdout",
     "output_type": "stream",
     "text": [
      "Query: What is the performance of Asia Pacific region? Summarize. Keep it under 200 words.\n",
      "\n",
      "\n",
      "\n",
      "\u001b[1m> Entering new RetrievalQA chain...\u001b[0m\n",
      "\n",
      "\u001b[1m> Finished chain.\u001b[0m\n",
      "Inference time: 222.758 sec.\n",
      "\n",
      "Result:   The Asia Pacific region achieved total sales of CHF 572.2 million in the 2022/23 financial year, a decrease of 0.3% compared to the previous year. The organic sales growth was 2.2%, driven by good growth in the Pacific market and airport projects in China and India. However, the Asian OEM business recorded a decrease in orders in the second half-year, impacting regional sales. The adjusted EBITDA (operating profit before depreciation and amortization) was CHF 92.6 million, a decrease of 8.5% compared to the previous year.\n"
     ]
    }
   ],
   "source": [
    "query = \"What is the performance of Asia Pacific region? Summarize. Keep it under 200 words.\"\n",
    "test_rag(qa, query)"
   ]
  },
  {
   "cell_type": "code",
   "execution_count": 17,
   "metadata": {},
   "outputs": [
    {
     "name": "stdout",
     "output_type": "stream",
     "text": [
      "Query: What is the main product segment that contributed in Asia Pacific? Summarize. Keep it under 200 words.\n",
      "\n",
      "\n",
      "\n",
      "\u001b[1m> Entering new RetrievalQA chain...\u001b[0m\n",
      "\n",
      "\u001b[1m> Finished chain.\u001b[0m\n",
      "Inference time: 192.002 sec.\n",
      "\n",
      "Result:   Based on the provided information, the main product segment that contributed to the Asia Pacific region was the Pacific market, which includes growth in the RELBDA business. This segment achieved organic sales growth of CHF 12.1 million, a 2.2% year-on-year increase. The project business in India also showed strong sales in the first half of the financial year, while the Asian OEM business recorded a decrease in orders in the second half-year, impacting regional sales.\n"
     ]
    }
   ],
   "source": [
    "query = \"What is the main product segment that contributed in Asia Pacific? Summarize. Keep it under 200 words.\"\n",
    "test_rag(qa, query)"
   ]
  },
  {
   "cell_type": "markdown",
   "metadata": {},
   "source": [
    "## Document sources and score similarities"
   ]
  },
  {
   "cell_type": "code",
   "execution_count": 18,
   "metadata": {},
   "outputs": [
    {
     "name": "stdout",
     "output_type": "stream",
     "text": [
      "Query: What is the main product segment that contributed in Asia Pacific? Summarize. Keep it under 200 words.\n",
      "Retrieved documents: 4\n",
      "Source:  C:\\Users\\User\\OneDrive\\Desktop\\LLAMA-Chroma\\data\\Annual-Report-2022-_-2023-en.pdf\n",
      "Text:  Region Asia Pacific\n",
      "Region Asia Pacific comprises the former segment Access Solutions Asia Pacific (AS APAC) \n",
      "and the Market Middle East which used to be a part of the former segment Access Solution \n",
      "Europe Middle East & Africa (AS EMEA). All figures were consolidated according to the \n",
      "operating model valid until and including 30 June 2023.\n",
      "Region Asia Pacific achieved total sales of CHF  572.2 million in the 2022/23 financial year \n",
      "compared to CHF 574.0 million in the previous year. Organic sales growth was CHF 12.1 \n",
      "million, a 2.2% year-on-year increase. Organic growth was secured by good growth in the \n",
      "Pacific market (including growth in the RELBDA business); additionally, airport projects in \n",
      "China and India supported overall sales. The project business in India showed strong sales in \n",
      "the first half of the financial year. The Asian OEM business recorded a decrease in orders in \n",
      "the second half-year, impacting regional sales. Overall, the second half-year was weaker in \n",
      "\n",
      "Source:  C:\\Users\\User\\OneDrive\\Desktop\\LLAMA-Chroma\\data\\Annual-Report-2022-_-2023-en.pdf\n",
      "Text:  Region Asia Pacific\n",
      "Region Asia Pacific comprises the former segment Access Solutions Asia Pacific (AS APAC) \n",
      "and the Market Middle East which used to be a part of the former segment Access Solution \n",
      "Europe Middle East & Africa (AS EMEA). All figures were consolidated according to the \n",
      "operating model valid until and including 30 June 2023.\n",
      "Region Asia Pacific achieved total sales of CHF  572.2 million in the 2022/23 financial year \n",
      "compared to CHF 574.0 million in the previous year. Organic sales growth was CHF 12.1 \n",
      "million, a 2.2% year-on-year increase. Organic growth was secured by good growth in the \n",
      "Pacific market (including growth in the RELBDA business); additionally, airport projects in \n",
      "China and India supported overall sales. The project business in India showed strong sales in \n",
      "the first half of the financial year. The Asian OEM business recorded a decrease in orders in \n",
      "the second half-year, impacting regional sales. Overall, the second half-year was weaker in \n",
      "\n",
      "Source:  C:\\Users\\User\\OneDrive\\Desktop\\LLAMA-Chroma\\data\\Annual-Report-2022-_-2023-en.pdf\n",
      "Text:  Key figures – Region Asia Pacific\n",
      "CHF million, \n",
      "except where indicated  Financial year ended\n",
      "30.06.2023 % Financial year ended\n",
      "30.06.2022\n",
      "(restated)  1% Change on\n",
      "previous year \n",
      "in %\n",
      "Net sales third parties  542.5   543.1   –0.1\n",
      "Intercompany sales  29.7   30.9    \n",
      "Total segment sales   572.2    574.0    –0.3\n",
      "Change in segment sales  –1.8 –0.3  111.9 24.2   \n",
      "Of which translation exchange differences  –26.1 –4.5  5.9 1.3   \n",
      "Of which acquisition impact  12.2 2.2  55.8 12.0   \n",
      "Of which divestment impact  0.0 0.0  –2.4 –0.5   \n",
      "Of which organic sales growth   12.1 2.2  52.6 11.3   \n",
      "Adjusted EBITDA (Operating profit before \n",
      "depreciation and amortization)   92.6 16.2  101.2 17.6  –8.5\n",
      "Average number of full-time equivalent \n",
      "employees  3,561   3,527    \n",
      "dormakaba changed the Group internal accounting principles for IT cost allocation. To enable a fair comparison with the current year, the prior-year disclosures \n",
      "\n",
      "Source:  C:\\Users\\User\\OneDrive\\Desktop\\LLAMA-Chroma\\data\\Annual-Report-2022-_-2023-en.pdf\n",
      "Text:  Key figures – Region Asia Pacific\n",
      "CHF million, \n",
      "except where indicated  Financial year ended\n",
      "30.06.2023 % Financial year ended\n",
      "30.06.2022\n",
      "(restated)  1% Change on\n",
      "previous year \n",
      "in %\n",
      "Net sales third parties  542.5   543.1   –0.1\n",
      "Intercompany sales  29.7   30.9    \n",
      "Total segment sales   572.2    574.0    –0.3\n",
      "Change in segment sales  –1.8 –0.3  111.9 24.2   \n",
      "Of which translation exchange differences  –26.1 –4.5  5.9 1.3   \n",
      "Of which acquisition impact  12.2 2.2  55.8 12.0   \n",
      "Of which divestment impact  0.0 0.0  –2.4 –0.5   \n",
      "Of which organic sales growth   12.1 2.2  52.6 11.3   \n",
      "Adjusted EBITDA (Operating profit before \n",
      "depreciation and amortization)   92.6 16.2  101.2 17.6  –8.5\n",
      "Average number of full-time equivalent \n",
      "employees  3,561   3,527    \n",
      "dormakaba changed the Group internal accounting principles for IT cost allocation. To enable a fair comparison with the current year, the prior-year disclosures \n",
      "\n"
     ]
    }
   ],
   "source": [
    "docs = vectordb.similarity_search(query)\n",
    "print(f\"Query: {query}\")\n",
    "print(f\"Retrieved documents: {len(docs)}\")\n",
    "for doc in docs:\n",
    "    doc_details = doc.to_json()['kwargs']\n",
    "    print(\"Source: \", doc_details['metadata']['source'])\n",
    "    print(\"Text: \", doc_details['page_content'], \"\\n\")"
   ]
  },
  {
   "cell_type": "code",
   "execution_count": 19,
   "metadata": {},
   "outputs": [],
   "source": [
    "docs = vectordb.similarity_search_with_score(query)"
   ]
  },
  {
   "cell_type": "code",
   "execution_count": 22,
   "metadata": {},
   "outputs": [
    {
     "data": {
      "text/plain": [
       "[(Document(page_content='Region Asia Pacific\\nRegion Asia Pacific comprises the former segment Access Solutions Asia Pacific (AS APAC) \\nand the Market Middle East which used to be a part of the former segment Access Solution \\nEurope Middle East & Africa (AS EMEA). All figures were consolidated according to the \\noperating model valid until and including 30 June 2023.\\nRegion Asia Pacific achieved total sales of CHF \\u202f572.2 million in the 2022/23 financial year \\ncompared to CHF 574.0 million in the previous year. Organic sales growth was CHF 12.1 \\nmillion, a 2.2% year-on-year increase. Organic growth was secured by good growth in the \\nPacific market (including growth in the RELBDA business); additionally, airport projects in \\nChina and India supported overall sales. The project business in India showed strong sales in \\nthe first half of the financial year. The Asian OEM business recorded a decrease in orders in \\nthe second half-year, impacting regional sales. Overall, the second half-year was weaker in', metadata={'page': 11, 'source': 'C:\\\\Users\\\\User\\\\OneDrive\\\\Desktop\\\\LLAMA-Chroma\\\\data\\\\Annual-Report-2022-_-2023-en.pdf'}),\n",
       "  0.864283561706543),\n",
       " (Document(page_content='Region Asia Pacific\\nRegion Asia Pacific comprises the former segment Access Solutions Asia Pacific (AS APAC) \\nand the Market Middle East which used to be a part of the former segment Access Solution \\nEurope Middle East & Africa (AS EMEA). All figures were consolidated according to the \\noperating model valid until and including 30 June 2023.\\nRegion Asia Pacific achieved total sales of CHF \\u202f572.2 million in the 2022/23 financial year \\ncompared to CHF 574.0 million in the previous year. Organic sales growth was CHF 12.1 \\nmillion, a 2.2% year-on-year increase. Organic growth was secured by good growth in the \\nPacific market (including growth in the RELBDA business); additionally, airport projects in \\nChina and India supported overall sales. The project business in India showed strong sales in \\nthe first half of the financial year. The Asian OEM business recorded a decrease in orders in \\nthe second half-year, impacting regional sales. Overall, the second half-year was weaker in', metadata={'page': 11, 'source': 'C:\\\\Users\\\\User\\\\OneDrive\\\\Desktop\\\\LLAMA-Chroma\\\\data\\\\Annual-Report-2022-_-2023-en.pdf'}),\n",
       "  0.864283561706543),\n",
       " (Document(page_content='Key figures – Region Asia Pacific\\nCHF million, \\nexcept where indicated \\xa0Financial year ended\\n30.06.2023 %\\xa0Financial year ended\\n30.06.2022\\n(restated)  1%\\xa0Change on\\nprevious year \\nin %\\nNet sales third parties  542.5   543.1   –0.1\\nIntercompany sales  29.7   30.9    \\nTotal segment sales \\xa0 572.2 \\xa0\\xa0 574.0 \\xa0\\xa0 –0.3\\nChange in segment sales  –1.8 –0.3  111.9 24.2   \\nOf which translation exchange differences  –26.1 –4.5  5.9 1.3   \\nOf which acquisition impact  12.2 2.2  55.8 12.0   \\nOf which divestment impact  0.0 0.0  –2.4 –0.5   \\nOf which organic sales growth \\xa0 12.1 2.2\\xa0 52.6 11.3\\xa0 \\xa0\\nAdjusted EBITDA (Operating profit before \\ndepreciation and amortization) \\xa0 92.6 16.2\\xa0 101.2 17.6\\xa0 –8.5\\nAverage number of full-time equivalent \\nemployees  3,561   3,527    \\ndormakaba changed the Group internal accounting principles for IT cost allocation. To enable a fair comparison with the current year, the prior-year disclosures', metadata={'page': 12, 'source': 'C:\\\\Users\\\\User\\\\OneDrive\\\\Desktop\\\\LLAMA-Chroma\\\\data\\\\Annual-Report-2022-_-2023-en.pdf'}),\n",
       "  0.9220881462097168),\n",
       " (Document(page_content='Key figures – Region Asia Pacific\\nCHF million, \\nexcept where indicated \\xa0Financial year ended\\n30.06.2023 %\\xa0Financial year ended\\n30.06.2022\\n(restated)  1%\\xa0Change on\\nprevious year \\nin %\\nNet sales third parties  542.5   543.1   –0.1\\nIntercompany sales  29.7   30.9    \\nTotal segment sales \\xa0 572.2 \\xa0\\xa0 574.0 \\xa0\\xa0 –0.3\\nChange in segment sales  –1.8 –0.3  111.9 24.2   \\nOf which translation exchange differences  –26.1 –4.5  5.9 1.3   \\nOf which acquisition impact  12.2 2.2  55.8 12.0   \\nOf which divestment impact  0.0 0.0  –2.4 –0.5   \\nOf which organic sales growth \\xa0 12.1 2.2\\xa0 52.6 11.3\\xa0 \\xa0\\nAdjusted EBITDA (Operating profit before \\ndepreciation and amortization) \\xa0 92.6 16.2\\xa0 101.2 17.6\\xa0 –8.5\\nAverage number of full-time equivalent \\nemployees  3,561   3,527    \\ndormakaba changed the Group internal accounting principles for IT cost allocation. To enable a fair comparison with the current year, the prior-year disclosures', metadata={'page': 12, 'source': 'C:\\\\Users\\\\User\\\\OneDrive\\\\Desktop\\\\LLAMA-Chroma\\\\data\\\\Annual-Report-2022-_-2023-en.pdf'}),\n",
       "  0.9220881462097168)]"
      ]
     },
     "execution_count": 22,
     "metadata": {},
     "output_type": "execute_result"
    }
   ],
   "source": [
    "docs"
   ]
  },
  {
   "cell_type": "code",
   "execution_count": 25,
   "metadata": {},
   "outputs": [
    {
     "name": "stdout",
     "output_type": "stream",
     "text": [
      "Query: What is the main product segment that contributed in Asia Pacific? Summarize. Keep it under 200 words.\n",
      "Retrieved documents: 4\n",
      "Source:  C:\\Users\\User\\OneDrive\\Desktop\\LLAMA-Chroma\\data\\Annual-Report-2022-_-2023-en.pdf\n",
      "Text:  Region Asia Pacific\n",
      "Region Asia Pacific comprises the former segment Access Solutions Asia Pacific (AS APAC) \n",
      "and the Market Middle East which used to be a part of the former segment Access Solution \n",
      "Europe Middle East & Africa (AS EMEA). All figures were consolidated according to the \n",
      "operating model valid until and including 30 June 2023.\n",
      "Region Asia Pacific achieved total sales of CHF  572.2 million in the 2022/23 financial year \n",
      "compared to CHF 574.0 million in the previous year. Organic sales growth was CHF 12.1 \n",
      "million, a 2.2% year-on-year increase. Organic growth was secured by good growth in the \n",
      "Pacific market (including growth in the RELBDA business); additionally, airport projects in \n",
      "China and India supported overall sales. The project business in India showed strong sales in \n",
      "the first half of the financial year. The Asian OEM business recorded a decrease in orders in \n",
      "the second half-year, impacting regional sales. Overall, the second half-year was weaker in \n",
      "\n",
      "Similarity Score:  0.864283561706543\n",
      "Source:  C:\\Users\\User\\OneDrive\\Desktop\\LLAMA-Chroma\\data\\Annual-Report-2022-_-2023-en.pdf\n",
      "Text:  Region Asia Pacific\n",
      "Region Asia Pacific comprises the former segment Access Solutions Asia Pacific (AS APAC) \n",
      "and the Market Middle East which used to be a part of the former segment Access Solution \n",
      "Europe Middle East & Africa (AS EMEA). All figures were consolidated according to the \n",
      "operating model valid until and including 30 June 2023.\n",
      "Region Asia Pacific achieved total sales of CHF  572.2 million in the 2022/23 financial year \n",
      "compared to CHF 574.0 million in the previous year. Organic sales growth was CHF 12.1 \n",
      "million, a 2.2% year-on-year increase. Organic growth was secured by good growth in the \n",
      "Pacific market (including growth in the RELBDA business); additionally, airport projects in \n",
      "China and India supported overall sales. The project business in India showed strong sales in \n",
      "the first half of the financial year. The Asian OEM business recorded a decrease in orders in \n",
      "the second half-year, impacting regional sales. Overall, the second half-year was weaker in \n",
      "\n",
      "Similarity Score:  0.864283561706543\n",
      "Source:  C:\\Users\\User\\OneDrive\\Desktop\\LLAMA-Chroma\\data\\Annual-Report-2022-_-2023-en.pdf\n",
      "Text:  Key figures – Region Asia Pacific\n",
      "CHF million, \n",
      "except where indicated  Financial year ended\n",
      "30.06.2023 % Financial year ended\n",
      "30.06.2022\n",
      "(restated)  1% Change on\n",
      "previous year \n",
      "in %\n",
      "Net sales third parties  542.5   543.1   –0.1\n",
      "Intercompany sales  29.7   30.9    \n",
      "Total segment sales   572.2    574.0    –0.3\n",
      "Change in segment sales  –1.8 –0.3  111.9 24.2   \n",
      "Of which translation exchange differences  –26.1 –4.5  5.9 1.3   \n",
      "Of which acquisition impact  12.2 2.2  55.8 12.0   \n",
      "Of which divestment impact  0.0 0.0  –2.4 –0.5   \n",
      "Of which organic sales growth   12.1 2.2  52.6 11.3   \n",
      "Adjusted EBITDA (Operating profit before \n",
      "depreciation and amortization)   92.6 16.2  101.2 17.6  –8.5\n",
      "Average number of full-time equivalent \n",
      "employees  3,561   3,527    \n",
      "dormakaba changed the Group internal accounting principles for IT cost allocation. To enable a fair comparison with the current year, the prior-year disclosures \n",
      "\n",
      "Similarity Score:  0.9220881462097168\n",
      "Source:  C:\\Users\\User\\OneDrive\\Desktop\\LLAMA-Chroma\\data\\Annual-Report-2022-_-2023-en.pdf\n",
      "Text:  Key figures – Region Asia Pacific\n",
      "CHF million, \n",
      "except where indicated  Financial year ended\n",
      "30.06.2023 % Financial year ended\n",
      "30.06.2022\n",
      "(restated)  1% Change on\n",
      "previous year \n",
      "in %\n",
      "Net sales third parties  542.5   543.1   –0.1\n",
      "Intercompany sales  29.7   30.9    \n",
      "Total segment sales   572.2    574.0    –0.3\n",
      "Change in segment sales  –1.8 –0.3  111.9 24.2   \n",
      "Of which translation exchange differences  –26.1 –4.5  5.9 1.3   \n",
      "Of which acquisition impact  12.2 2.2  55.8 12.0   \n",
      "Of which divestment impact  0.0 0.0  –2.4 –0.5   \n",
      "Of which organic sales growth   12.1 2.2  52.6 11.3   \n",
      "Adjusted EBITDA (Operating profit before \n",
      "depreciation and amortization)   92.6 16.2  101.2 17.6  –8.5\n",
      "Average number of full-time equivalent \n",
      "employees  3,561   3,527    \n",
      "dormakaba changed the Group internal accounting principles for IT cost allocation. To enable a fair comparison with the current year, the prior-year disclosures \n",
      "\n",
      "Similarity Score:  0.9220881462097168\n"
     ]
    }
   ],
   "source": [
    "docs = vectordb.similarity_search_with_score(query)\n",
    "print(f\"Query: {query}\")\n",
    "print(f\"Retrieved documents: {len(docs)}\")\n",
    "\n",
    "for doc, score in docs:  # assuming docs is a list of tuples (document, score)\n",
    "    doc_details = doc.to_json()['kwargs']\n",
    "    print(\"Source: \", doc_details['metadata']['source'])\n",
    "    print(\"Text: \", doc_details['page_content'], \"\\n\")\n",
    "    print(\"Similarity Score: \", score)  # Printing the similarity score for each document\n"
   ]
  }
 ],
 "metadata": {
  "kernelspec": {
   "display_name": "llama-chroma",
   "language": "python",
   "name": "python3"
  },
  "language_info": {
   "codemirror_mode": {
    "name": "ipython",
    "version": 3
   },
   "file_extension": ".py",
   "mimetype": "text/x-python",
   "name": "python",
   "nbconvert_exporter": "python",
   "pygments_lexer": "ipython3",
   "version": "3.10.13"
  }
 },
 "nbformat": 4,
 "nbformat_minor": 2
}
